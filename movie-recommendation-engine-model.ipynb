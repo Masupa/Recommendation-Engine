{
 "cells": [
  {
   "cell_type": "markdown",
   "metadata": {},
   "source": [
    "    MOVIE RECOMMENDATION ENGINE\n",
    "\n",
    "    Objective: \n",
    "        * Given a user 'x' and an unrated movie 'y', can we predict how the user will rate this movie?\n",
    "        * Using the rating, can we recommend similar movies?\n",
    "\n",
    "    Data:\n",
    "        * Movie dataset (details about the movie)\n",
    "        * Ratings dataset (movie ratings)"
   ]
  },
  {
   "cell_type": "code",
   "execution_count": 1,
   "metadata": {},
   "outputs": [],
   "source": [
    "# Import libraries\n",
    "import numpy as np # linear algebra\n",
    "import pandas as pd # data manipulation\n",
    "import matplotlib.pyplot as plt # visualization\n",
    "import seaborn as sns # visualization\n",
    "from surprise import Reader, Dataset # reading and dataset into surprise\n",
    "\n",
    "%matplotlib inline"
   ]
  },
  {
   "cell_type": "code",
   "execution_count": 2,
   "metadata": {},
   "outputs": [
    {
     "data": {
      "text/html": [
       "<div>\n",
       "<style scoped>\n",
       "    .dataframe tbody tr th:only-of-type {\n",
       "        vertical-align: middle;\n",
       "    }\n",
       "\n",
       "    .dataframe tbody tr th {\n",
       "        vertical-align: top;\n",
       "    }\n",
       "\n",
       "    .dataframe thead th {\n",
       "        text-align: right;\n",
       "    }\n",
       "</style>\n",
       "<table border=\"1\" class=\"dataframe\">\n",
       "  <thead>\n",
       "    <tr style=\"text-align: right;\">\n",
       "      <th></th>\n",
       "      <th>movieId</th>\n",
       "      <th>title</th>\n",
       "      <th>genres</th>\n",
       "      <th>userId</th>\n",
       "      <th>rating</th>\n",
       "      <th>global_avg_rating</th>\n",
       "      <th>movie_avg_rating</th>\n",
       "      <th>user_avg_rating</th>\n",
       "      <th>sim_movie_1</th>\n",
       "      <th>sim_movie_2</th>\n",
       "      <th>sim_movie_3</th>\n",
       "      <th>sim_movie_4</th>\n",
       "      <th>sim_movie_5</th>\n",
       "      <th>sim_user_1</th>\n",
       "      <th>sim_user_2</th>\n",
       "      <th>sim_user_3</th>\n",
       "      <th>sim_user_4</th>\n",
       "      <th>sim_user_5</th>\n",
       "    </tr>\n",
       "  </thead>\n",
       "  <tbody>\n",
       "    <tr>\n",
       "      <th>0</th>\n",
       "      <td>1</td>\n",
       "      <td>Toy Story (1995)</td>\n",
       "      <td>Adventure|Animation|Children|Comedy|Fantasy</td>\n",
       "      <td>1</td>\n",
       "      <td>4.0</td>\n",
       "      <td>3.501557</td>\n",
       "      <td>3.920930</td>\n",
       "      <td>4.366379</td>\n",
       "      <td>4.0</td>\n",
       "      <td>4.0</td>\n",
       "      <td>3.0</td>\n",
       "      <td>4.0</td>\n",
       "      <td>4.0</td>\n",
       "      <td>5.0</td>\n",
       "      <td>3.0</td>\n",
       "      <td>4.0</td>\n",
       "      <td>3.0</td>\n",
       "      <td>3.0</td>\n",
       "    </tr>\n",
       "    <tr>\n",
       "      <th>1</th>\n",
       "      <td>1</td>\n",
       "      <td>Toy Story (1995)</td>\n",
       "      <td>Adventure|Animation|Children|Comedy|Fantasy</td>\n",
       "      <td>1</td>\n",
       "      <td>4.0</td>\n",
       "      <td>3.501557</td>\n",
       "      <td>3.920930</td>\n",
       "      <td>4.366379</td>\n",
       "      <td>4.0</td>\n",
       "      <td>4.0</td>\n",
       "      <td>3.0</td>\n",
       "      <td>4.0</td>\n",
       "      <td>4.0</td>\n",
       "      <td>5.0</td>\n",
       "      <td>3.0</td>\n",
       "      <td>4.0</td>\n",
       "      <td>3.0</td>\n",
       "      <td>3.0</td>\n",
       "    </tr>\n",
       "    <tr>\n",
       "      <th>2</th>\n",
       "      <td>3</td>\n",
       "      <td>Grumpier Old Men (1995)</td>\n",
       "      <td>Comedy|Romance</td>\n",
       "      <td>1</td>\n",
       "      <td>4.0</td>\n",
       "      <td>3.501557</td>\n",
       "      <td>3.259615</td>\n",
       "      <td>4.366379</td>\n",
       "      <td>3.0</td>\n",
       "      <td>2.0</td>\n",
       "      <td>3.0</td>\n",
       "      <td>3.0</td>\n",
       "      <td>3.0</td>\n",
       "      <td>5.0</td>\n",
       "      <td>3.0</td>\n",
       "      <td>4.0</td>\n",
       "      <td>3.0</td>\n",
       "      <td>3.0</td>\n",
       "    </tr>\n",
       "    <tr>\n",
       "      <th>3</th>\n",
       "      <td>3</td>\n",
       "      <td>Grumpier Old Men (1995)</td>\n",
       "      <td>Comedy|Romance</td>\n",
       "      <td>1</td>\n",
       "      <td>4.0</td>\n",
       "      <td>3.501557</td>\n",
       "      <td>3.259615</td>\n",
       "      <td>4.366379</td>\n",
       "      <td>3.0</td>\n",
       "      <td>2.0</td>\n",
       "      <td>3.0</td>\n",
       "      <td>3.0</td>\n",
       "      <td>3.0</td>\n",
       "      <td>5.0</td>\n",
       "      <td>3.0</td>\n",
       "      <td>4.0</td>\n",
       "      <td>3.0</td>\n",
       "      <td>3.0</td>\n",
       "    </tr>\n",
       "    <tr>\n",
       "      <th>4</th>\n",
       "      <td>6</td>\n",
       "      <td>Heat (1995)</td>\n",
       "      <td>Action|Crime|Thriller</td>\n",
       "      <td>1</td>\n",
       "      <td>4.0</td>\n",
       "      <td>3.501557</td>\n",
       "      <td>3.946078</td>\n",
       "      <td>4.366379</td>\n",
       "      <td>4.0</td>\n",
       "      <td>4.0</td>\n",
       "      <td>4.0</td>\n",
       "      <td>4.0</td>\n",
       "      <td>4.0</td>\n",
       "      <td>5.0</td>\n",
       "      <td>3.0</td>\n",
       "      <td>4.0</td>\n",
       "      <td>3.0</td>\n",
       "      <td>3.0</td>\n",
       "    </tr>\n",
       "  </tbody>\n",
       "</table>\n",
       "</div>"
      ],
      "text/plain": [
       "   movieId                    title  \\\n",
       "0        1         Toy Story (1995)   \n",
       "1        1         Toy Story (1995)   \n",
       "2        3  Grumpier Old Men (1995)   \n",
       "3        3  Grumpier Old Men (1995)   \n",
       "4        6              Heat (1995)   \n",
       "\n",
       "                                        genres  userId  rating  \\\n",
       "0  Adventure|Animation|Children|Comedy|Fantasy       1     4.0   \n",
       "1  Adventure|Animation|Children|Comedy|Fantasy       1     4.0   \n",
       "2                               Comedy|Romance       1     4.0   \n",
       "3                               Comedy|Romance       1     4.0   \n",
       "4                        Action|Crime|Thriller       1     4.0   \n",
       "\n",
       "   global_avg_rating  movie_avg_rating  user_avg_rating  sim_movie_1  \\\n",
       "0           3.501557          3.920930         4.366379          4.0   \n",
       "1           3.501557          3.920930         4.366379          4.0   \n",
       "2           3.501557          3.259615         4.366379          3.0   \n",
       "3           3.501557          3.259615         4.366379          3.0   \n",
       "4           3.501557          3.946078         4.366379          4.0   \n",
       "\n",
       "   sim_movie_2  sim_movie_3  sim_movie_4  sim_movie_5  sim_user_1  sim_user_2  \\\n",
       "0          4.0          3.0          4.0          4.0         5.0         3.0   \n",
       "1          4.0          3.0          4.0          4.0         5.0         3.0   \n",
       "2          2.0          3.0          3.0          3.0         5.0         3.0   \n",
       "3          2.0          3.0          3.0          3.0         5.0         3.0   \n",
       "4          4.0          4.0          4.0          4.0         5.0         3.0   \n",
       "\n",
       "   sim_user_3  sim_user_4  sim_user_5  \n",
       "0         4.0         3.0         3.0  \n",
       "1         4.0         3.0         3.0  \n",
       "2         4.0         3.0         3.0  \n",
       "3         4.0         3.0         3.0  \n",
       "4         4.0         3.0         3.0  "
      ]
     },
     "execution_count": 2,
     "metadata": {},
     "output_type": "execute_result"
    }
   ],
   "source": [
    "# Import Dataset\n",
    "movie_ratings = pd.read_csv(\"movie_ratings_features.csv\")\n",
    "movie_ratings.head()"
   ]
  },
  {
   "cell_type": "code",
   "execution_count": 3,
   "metadata": {},
   "outputs": [],
   "source": [
    "# Drop \"title\", \"genres\", \"movieId\", and \"userId\"\n",
    "movie_ratings.drop(labels=['title', 'genres', 'movieId', 'userId'], axis=1, inplace=True)"
   ]
  },
  {
   "cell_type": "code",
   "execution_count": 4,
   "metadata": {},
   "outputs": [
    {
     "data": {
      "text/plain": [
       "rating               0\n",
       "global_avg_rating    0\n",
       "movie_avg_rating     0\n",
       "user_avg_rating      0\n",
       "sim_movie_1          0\n",
       "sim_movie_2          0\n",
       "sim_movie_3          0\n",
       "sim_movie_4          0\n",
       "sim_movie_5          0\n",
       "sim_user_1           0\n",
       "sim_user_2           0\n",
       "sim_user_3           0\n",
       "sim_user_4           0\n",
       "sim_user_5           0\n",
       "dtype: int64"
      ]
     },
     "execution_count": 4,
     "metadata": {},
     "output_type": "execute_result"
    }
   ],
   "source": [
    "# Missing entries\n",
    "movie_ratings.isna().sum()"
   ]
  },
  {
   "cell_type": "code",
   "execution_count": 5,
   "metadata": {},
   "outputs": [
    {
     "data": {
      "text/html": [
       "<div>\n",
       "<style scoped>\n",
       "    .dataframe tbody tr th:only-of-type {\n",
       "        vertical-align: middle;\n",
       "    }\n",
       "\n",
       "    .dataframe tbody tr th {\n",
       "        vertical-align: top;\n",
       "    }\n",
       "\n",
       "    .dataframe thead th {\n",
       "        text-align: right;\n",
       "    }\n",
       "</style>\n",
       "<table border=\"1\" class=\"dataframe\">\n",
       "  <thead>\n",
       "    <tr style=\"text-align: right;\">\n",
       "      <th></th>\n",
       "      <th>rating</th>\n",
       "      <th>global_avg_rating</th>\n",
       "      <th>movie_avg_rating</th>\n",
       "      <th>user_avg_rating</th>\n",
       "      <th>sim_movie_1</th>\n",
       "      <th>sim_movie_2</th>\n",
       "      <th>sim_movie_3</th>\n",
       "      <th>sim_movie_4</th>\n",
       "      <th>sim_movie_5</th>\n",
       "      <th>sim_user_1</th>\n",
       "      <th>sim_user_2</th>\n",
       "      <th>sim_user_3</th>\n",
       "      <th>sim_user_4</th>\n",
       "      <th>sim_user_5</th>\n",
       "    </tr>\n",
       "  </thead>\n",
       "  <tbody>\n",
       "    <tr>\n",
       "      <th>count</th>\n",
       "      <td>201660.000000</td>\n",
       "      <td>2.016600e+05</td>\n",
       "      <td>201660.000000</td>\n",
       "      <td>201660.000000</td>\n",
       "      <td>201660.000000</td>\n",
       "      <td>201660.000000</td>\n",
       "      <td>201660.000000</td>\n",
       "      <td>201660.000000</td>\n",
       "      <td>201660.000000</td>\n",
       "      <td>201660.000000</td>\n",
       "      <td>201660.000000</td>\n",
       "      <td>201660.000000</td>\n",
       "      <td>201660.000000</td>\n",
       "      <td>201660.000000</td>\n",
       "    </tr>\n",
       "    <tr>\n",
       "      <th>mean</th>\n",
       "      <td>3.501567</td>\n",
       "      <td>3.501557e+00</td>\n",
       "      <td>3.501567</td>\n",
       "      <td>3.501568</td>\n",
       "      <td>3.494739</td>\n",
       "      <td>3.466235</td>\n",
       "      <td>3.468214</td>\n",
       "      <td>3.459020</td>\n",
       "      <td>3.459942</td>\n",
       "      <td>3.481137</td>\n",
       "      <td>3.504939</td>\n",
       "      <td>3.511524</td>\n",
       "      <td>3.528136</td>\n",
       "      <td>3.475483</td>\n",
       "    </tr>\n",
       "    <tr>\n",
       "      <th>std</th>\n",
       "      <td>1.042546</td>\n",
       "      <td>8.937318e-12</td>\n",
       "      <td>0.564959</td>\n",
       "      <td>0.461694</td>\n",
       "      <td>0.662640</td>\n",
       "      <td>0.693876</td>\n",
       "      <td>0.701689</td>\n",
       "      <td>0.690533</td>\n",
       "      <td>0.679804</td>\n",
       "      <td>0.667666</td>\n",
       "      <td>0.665892</td>\n",
       "      <td>0.623058</td>\n",
       "      <td>0.635271</td>\n",
       "      <td>0.584784</td>\n",
       "    </tr>\n",
       "    <tr>\n",
       "      <th>min</th>\n",
       "      <td>0.500000</td>\n",
       "      <td>3.501557e+00</td>\n",
       "      <td>0.500000</td>\n",
       "      <td>1.275000</td>\n",
       "      <td>0.000000</td>\n",
       "      <td>0.500000</td>\n",
       "      <td>0.000000</td>\n",
       "      <td>0.500000</td>\n",
       "      <td>0.500000</td>\n",
       "      <td>1.000000</td>\n",
       "      <td>1.000000</td>\n",
       "      <td>1.000000</td>\n",
       "      <td>1.000000</td>\n",
       "      <td>1.000000</td>\n",
       "    </tr>\n",
       "    <tr>\n",
       "      <th>25%</th>\n",
       "      <td>3.000000</td>\n",
       "      <td>3.501557e+00</td>\n",
       "      <td>3.184713</td>\n",
       "      <td>3.258520</td>\n",
       "      <td>3.000000</td>\n",
       "      <td>3.000000</td>\n",
       "      <td>3.000000</td>\n",
       "      <td>3.000000</td>\n",
       "      <td>3.000000</td>\n",
       "      <td>3.000000</td>\n",
       "      <td>3.000000</td>\n",
       "      <td>3.000000</td>\n",
       "      <td>3.000000</td>\n",
       "      <td>3.000000</td>\n",
       "    </tr>\n",
       "    <tr>\n",
       "      <th>50%</th>\n",
       "      <td>3.500000</td>\n",
       "      <td>3.501557e+00</td>\n",
       "      <td>3.576087</td>\n",
       "      <td>3.508850</td>\n",
       "      <td>4.000000</td>\n",
       "      <td>4.000000</td>\n",
       "      <td>4.000000</td>\n",
       "      <td>4.000000</td>\n",
       "      <td>4.000000</td>\n",
       "      <td>4.000000</td>\n",
       "      <td>4.000000</td>\n",
       "      <td>4.000000</td>\n",
       "      <td>4.000000</td>\n",
       "      <td>3.000000</td>\n",
       "    </tr>\n",
       "    <tr>\n",
       "      <th>75%</th>\n",
       "      <td>4.000000</td>\n",
       "      <td>3.501557e+00</td>\n",
       "      <td>3.916667</td>\n",
       "      <td>3.803226</td>\n",
       "      <td>4.000000</td>\n",
       "      <td>4.000000</td>\n",
       "      <td>4.000000</td>\n",
       "      <td>4.000000</td>\n",
       "      <td>4.000000</td>\n",
       "      <td>4.000000</td>\n",
       "      <td>4.000000</td>\n",
       "      <td>4.000000</td>\n",
       "      <td>4.000000</td>\n",
       "      <td>4.000000</td>\n",
       "    </tr>\n",
       "    <tr>\n",
       "      <th>max</th>\n",
       "      <td>5.000000</td>\n",
       "      <td>3.501557e+00</td>\n",
       "      <td>5.000000</td>\n",
       "      <td>5.000000</td>\n",
       "      <td>5.000000</td>\n",
       "      <td>5.000000</td>\n",
       "      <td>5.000000</td>\n",
       "      <td>5.000000</td>\n",
       "      <td>5.000000</td>\n",
       "      <td>5.000000</td>\n",
       "      <td>5.000000</td>\n",
       "      <td>5.000000</td>\n",
       "      <td>5.000000</td>\n",
       "      <td>5.000000</td>\n",
       "    </tr>\n",
       "  </tbody>\n",
       "</table>\n",
       "</div>"
      ],
      "text/plain": [
       "              rating  global_avg_rating  movie_avg_rating  user_avg_rating  \\\n",
       "count  201660.000000       2.016600e+05     201660.000000    201660.000000   \n",
       "mean        3.501567       3.501557e+00          3.501567         3.501568   \n",
       "std         1.042546       8.937318e-12          0.564959         0.461694   \n",
       "min         0.500000       3.501557e+00          0.500000         1.275000   \n",
       "25%         3.000000       3.501557e+00          3.184713         3.258520   \n",
       "50%         3.500000       3.501557e+00          3.576087         3.508850   \n",
       "75%         4.000000       3.501557e+00          3.916667         3.803226   \n",
       "max         5.000000       3.501557e+00          5.000000         5.000000   \n",
       "\n",
       "         sim_movie_1    sim_movie_2    sim_movie_3    sim_movie_4  \\\n",
       "count  201660.000000  201660.000000  201660.000000  201660.000000   \n",
       "mean        3.494739       3.466235       3.468214       3.459020   \n",
       "std         0.662640       0.693876       0.701689       0.690533   \n",
       "min         0.000000       0.500000       0.000000       0.500000   \n",
       "25%         3.000000       3.000000       3.000000       3.000000   \n",
       "50%         4.000000       4.000000       4.000000       4.000000   \n",
       "75%         4.000000       4.000000       4.000000       4.000000   \n",
       "max         5.000000       5.000000       5.000000       5.000000   \n",
       "\n",
       "         sim_movie_5     sim_user_1     sim_user_2     sim_user_3  \\\n",
       "count  201660.000000  201660.000000  201660.000000  201660.000000   \n",
       "mean        3.459942       3.481137       3.504939       3.511524   \n",
       "std         0.679804       0.667666       0.665892       0.623058   \n",
       "min         0.500000       1.000000       1.000000       1.000000   \n",
       "25%         3.000000       3.000000       3.000000       3.000000   \n",
       "50%         4.000000       4.000000       4.000000       4.000000   \n",
       "75%         4.000000       4.000000       4.000000       4.000000   \n",
       "max         5.000000       5.000000       5.000000       5.000000   \n",
       "\n",
       "          sim_user_4     sim_user_5  \n",
       "count  201660.000000  201660.000000  \n",
       "mean        3.528136       3.475483  \n",
       "std         0.635271       0.584784  \n",
       "min         1.000000       1.000000  \n",
       "25%         3.000000       3.000000  \n",
       "50%         4.000000       3.000000  \n",
       "75%         4.000000       4.000000  \n",
       "max         5.000000       5.000000  "
      ]
     },
     "execution_count": 5,
     "metadata": {},
     "output_type": "execute_result"
    }
   ],
   "source": [
    "# Summary Stats\n",
    "movie_ratings.describe()"
   ]
  },
  {
   "cell_type": "code",
   "execution_count": 6,
   "metadata": {},
   "outputs": [
    {
     "data": {
      "text/plain": [
       "<matplotlib.axes._subplots.AxesSubplot at 0x7f9c6c0a7f10>"
      ]
     },
     "execution_count": 6,
     "metadata": {},
     "output_type": "execute_result"
    },
    {
     "data": {
      "image/png": "[encoded data removed]",
      "text/plain": [
       "<Figure size 1440x720 with 2 Axes>"
      ]
     },
     "metadata": {
      "needs_background": "light"
     },
     "output_type": "display_data"
    }
   ],
   "source": [
    "# Figure Size\n",
    "plt.figure(figsize=(20,10))\n",
    "\n",
    "# Correlation\n",
    "correlation = movie_ratings.corr()\n",
    "sns.heatmap(correlation, xticklabels=movie_ratings.columns, yticklabels=movie_ratings.columns)"
   ]
  },
  {
   "cell_type": "markdown",
   "metadata": {},
   "source": [
    "    MODEL DEVELOPMENT"
   ]
  },
  {
   "cell_type": "code",
   "execution_count": 7,
   "metadata": {},
   "outputs": [],
   "source": [
    "# Import libraries\n",
    "from sklearn.model_selection import train_test_split\n",
    "from sklearn.linear_model import LinearRegression\n",
    "from sklearn.metrics import mean_absolute_error"
   ]
  },
  {
   "cell_type": "code",
   "execution_count": 8,
   "metadata": {},
   "outputs": [],
   "source": [
    "# Features\n",
    "X = movie_ratings.drop('rating', axis=1).values\n",
    "y = movie_ratings['rating'].values\n",
    "\n",
    "# Split the data\n",
    "X_train, X_test, y_train, y_test = train_test_split(X, y, test_size=0.2, random_state=42, shuffle=True)"
   ]
  },
  {
   "cell_type": "markdown",
   "metadata": {},
   "source": [
    "    # Linear Regression Model"
   ]
  },
  {
   "cell_type": "code",
   "execution_count": 9,
   "metadata": {},
   "outputs": [],
   "source": [
    "def LinearRegressionModel():\n",
    "    # Instantiate model\n",
    "    reg = LinearRegression()\n",
    "    # Fit the data\n",
    "    reg.fit(X_train, y_train)\n",
    "    # Make prediction\n",
    "    \n",
    "    score = reg.score(X_test, y_test)\n",
    "    print(\"Linear Regression Score: {}\".format(score))"
   ]
  },
  {
   "cell_type": "code",
   "execution_count": 10,
   "metadata": {},
   "outputs": [
    {
     "name": "stdout",
     "output_type": "stream",
     "text": [
      "Linear Regression Score: 0.4060418335840802\n"
     ]
    }
   ],
   "source": [
    "LinearRegressionModel()"
   ]
  },
  {
   "cell_type": "markdown",
   "metadata": {},
   "source": []
  },
  {
   "cell_type": "markdown",
   "metadata": {},
   "source": [
    "    # SDG Regressor"
   ]
  },
  {
   "cell_type": "code",
   "execution_count": 11,
   "metadata": {},
   "outputs": [],
   "source": [
    "from sklearn.linear_model import SGDRegressor\n",
    "from sklearn.pipeline import make_pipeline\n",
    "from sklearn.preprocessing import StandardScaler"
   ]
  },
  {
   "cell_type": "code",
   "execution_count": 12,
   "metadata": {},
   "outputs": [],
   "source": [
    "def SGD_Regressor():\n",
    "    # Pipeline\n",
    "    reg = make_pipeline(StandardScaler(), SGDRegressor())\n",
    "    # Fit the data\n",
    "    reg.fit(X_train, y_train)\n",
    "    # Score\n",
    "    score = reg.score(X_test, y_test)\n",
    "    \n",
    "    print(\"SGD Regressor Score: {}\".format(score))"
   ]
  },
  {
   "cell_type": "code",
   "execution_count": 13,
   "metadata": {},
   "outputs": [
    {
     "name": "stdout",
     "output_type": "stream",
     "text": [
      "SGD Regressor Score: 0.40466648431245544\n"
     ]
    }
   ],
   "source": [
    "SGD_Regressor()"
   ]
  },
  {
   "cell_type": "markdown",
   "metadata": {},
   "source": []
  },
  {
   "cell_type": "markdown",
   "metadata": {},
   "source": []
  },
  {
   "cell_type": "markdown",
   "metadata": {},
   "source": [
    "    # xgboost "
   ]
  },
  {
   "cell_type": "code",
   "execution_count": 14,
   "metadata": {},
   "outputs": [],
   "source": [
    "import xgboost as xgb\n",
    "from sklearn.metrics import mean_squared_error"
   ]
  },
  {
   "cell_type": "code",
   "execution_count": 15,
   "metadata": {},
   "outputs": [],
   "source": [
    "def xgboost_model():\n",
    "    # Matrix format for xgboost\n",
    "    data_dmatrix = xgb.DMatrix(data=X, label=y)\n",
    "    # Instantiate model\n",
    "    xgb_reg = xgb.XGBRegressor(objective ='reg:squarederror', colsample_bytree = 0.3, learning_rate = 0.1,\n",
    "                max_depth = 5, alpha = 10, n_estimators = 10)\n",
    "    # Fit the data\n",
    "    xgb_reg.fit(X_train, y_train)\n",
    "    \n",
    "    # ------ Test -------\n",
    "    \n",
    "    # Test Predict\n",
    "    preds_test = xgb_reg.predict(X_test)\n",
    "    # Test RMSE\n",
    "    rmse_test = np.sqrt(mean_squared_error(y_test, preds_test))\n",
    "    \n",
    "    # ----- Train -------\n",
    "    \n",
    "    # Train Predict\n",
    "    preds_train = xgb_reg.predict(X_train)\n",
    "    # Train RMSE\n",
    "    rmse_train = np.sqrt(mean_squared_error(y_train, preds_train))\n",
    "    \n",
    "    print(\"RMSE Test: %f\" % (rmse_test))\n",
    "    print(\"RMSE Train: %f\" % (rmse_train))"
   ]
  },
  {
   "cell_type": "code",
   "execution_count": 16,
   "metadata": {},
   "outputs": [
    {
     "name": "stdout",
     "output_type": "stream",
     "text": [
      "RMSE Test: 1.406380\n",
      "RMSE Train: 1.402370\n"
     ]
    }
   ],
   "source": [
    "xgboost_model()"
   ]
  },
  {
   "cell_type": "markdown",
   "metadata": {},
   "source": []
  },
  {
   "cell_type": "markdown",
   "metadata": {},
   "source": [
    "    # Deep Learning Model"
   ]
  },
  {
   "cell_type": "code",
   "execution_count": 17,
   "metadata": {},
   "outputs": [],
   "source": [
    "import tensorflow as tf\n",
    "from tensorflow import keras\n",
    "from tensorflow.keras import layers"
   ]
  },
  {
   "cell_type": "code",
   "execution_count": 20,
   "metadata": {
    "collapsed": true
   },
   "outputs": [
    {
     "name": "stdout",
     "output_type": "stream",
     "text": [
      "Epoch 1/70\n",
      "4034/4034 [==============================] - 7s 2ms/step - loss: 0.9475 - mae: 0.7423 - val_loss: 2.5338 - val_mae: 1.4290\n",
      "Epoch 2/70\n",
      "4034/4034 [==============================] - 7s 2ms/step - loss: 0.7216 - mae: 0.6526 - val_loss: 2.2206 - val_mae: 1.3305\n",
      "Epoch 3/70\n",
      "4034/4034 [==============================] - 8s 2ms/step - loss: 0.6917 - mae: 0.6371 - val_loss: 2.0181 - val_mae: 1.2612\n",
      "Epoch 4/70\n",
      "4034/4034 [==============================] - 8s 2ms/step - loss: 0.6815 - mae: 0.6309 - val_loss: 2.5811 - val_mae: 1.4484\n",
      "Epoch 5/70\n",
      "4034/4034 [==============================] - 8s 2ms/step - loss: 0.6750 - mae: 0.6273 - val_loss: 2.2433 - val_mae: 1.3395\n",
      "Epoch 6/70\n",
      "4034/4034 [==============================] - 9s 2ms/step - loss: 0.6740 - mae: 0.6264 - val_loss: 1.8939 - val_mae: 1.2168\n",
      "Epoch 7/70\n",
      "4034/4034 [==============================] - 8s 2ms/step - loss: 0.6713 - mae: 0.6247 - val_loss: 2.4048 - val_mae: 1.3926\n",
      "Epoch 8/70\n",
      "4034/4034 [==============================] - 10s 2ms/step - loss: 0.6698 - mae: 0.6243 - val_loss: 2.5306 - val_mae: 1.4323\n",
      "Epoch 9/70\n",
      "4034/4034 [==============================] - 9s 2ms/step - loss: 0.6684 - mae: 0.6234 - val_loss: 2.3247 - val_mae: 1.3663\n",
      "Epoch 10/70\n",
      "4034/4034 [==============================] - 9s 2ms/step - loss: 0.6680 - mae: 0.6233 - val_loss: 1.7545 - val_mae: 1.1647\n",
      "Epoch 11/70\n",
      "4034/4034 [==============================] - 7s 2ms/step - loss: 0.6685 - mae: 0.6230 - val_loss: 2.5888 - val_mae: 1.4505\n",
      "Epoch 12/70\n",
      "4034/4034 [==============================] - 8s 2ms/step - loss: 0.6682 - mae: 0.6228 - val_loss: 1.7712 - val_mae: 1.1704\n",
      "Epoch 13/70\n",
      "4034/4034 [==============================] - 7s 2ms/step - loss: 0.6669 - mae: 0.6224 - val_loss: 2.4030 - val_mae: 1.3914\n",
      "Epoch 14/70\n",
      "4034/4034 [==============================] - 7s 2ms/step - loss: 0.6668 - mae: 0.6221 - val_loss: 1.9411 - val_mae: 1.2338\n",
      "Epoch 15/70\n",
      "4034/4034 [==============================] - 7s 2ms/step - loss: 0.6672 - mae: 0.6226 - val_loss: 1.6844 - val_mae: 1.1373\n",
      "Epoch 16/70\n",
      "4034/4034 [==============================] - 7s 2ms/step - loss: 0.6670 - mae: 0.6224 - val_loss: 1.8153 - val_mae: 1.1869\n",
      "Epoch 17/70\n",
      "4034/4034 [==============================] - 6s 2ms/step - loss: 0.6670 - mae: 0.6222 - val_loss: 1.8829 - val_mae: 1.2121\n",
      "Epoch 18/70\n",
      "4034/4034 [==============================] - 7s 2ms/step - loss: 0.6660 - mae: 0.6220 - val_loss: 1.7326 - val_mae: 1.1555\n",
      "Epoch 19/70\n",
      "4034/4034 [==============================] - 7s 2ms/step - loss: 0.6664 - mae: 0.6220 - val_loss: 1.9170 - val_mae: 1.2250\n",
      "Epoch 20/70\n",
      "4034/4034 [==============================] - 7s 2ms/step - loss: 0.6661 - mae: 0.6216 - val_loss: 1.7483 - val_mae: 1.1615\n",
      "Epoch 21/70\n",
      "4034/4034 [==============================] - 8s 2ms/step - loss: 0.6666 - mae: 0.6223 - val_loss: 1.7465 - val_mae: 1.1611\n",
      "Epoch 22/70\n",
      "4034/4034 [==============================] - 8s 2ms/step - loss: 0.6670 - mae: 0.6223 - val_loss: 1.7747 - val_mae: 1.1715\n",
      "Epoch 23/70\n",
      "4034/4034 [==============================] - 9s 2ms/step - loss: 0.6662 - mae: 0.6210 - val_loss: 1.8985 - val_mae: 1.2173\n",
      "Epoch 24/70\n",
      "4034/4034 [==============================] - 8s 2ms/step - loss: 0.6662 - mae: 0.6218 - val_loss: 1.5702 - val_mae: 1.0915\n",
      "Epoch 25/70\n",
      "4034/4034 [==============================] - 7s 2ms/step - loss: 0.6657 - mae: 0.6213 - val_loss: 1.8222 - val_mae: 1.1893\n",
      "Epoch 26/70\n",
      "4034/4034 [==============================] - 8s 2ms/step - loss: 0.6659 - mae: 0.6216 - val_loss: 2.0821 - val_mae: 1.2831\n",
      "Epoch 27/70\n",
      "4034/4034 [==============================] - 8s 2ms/step - loss: 0.6660 - mae: 0.6217 - val_loss: 1.8092 - val_mae: 1.1846\n",
      "Epoch 28/70\n",
      "4034/4034 [==============================] - 8s 2ms/step - loss: 0.6665 - mae: 0.6218 - val_loss: 1.9990 - val_mae: 1.2535\n",
      "Epoch 29/70\n",
      "4034/4034 [==============================] - 16s 4ms/step - loss: 0.6664 - mae: 0.6220 - val_loss: 2.0428 - val_mae: 1.2692\n",
      "Epoch 30/70\n",
      "4034/4034 [==============================] - 12s 3ms/step - loss: 0.6649 - mae: 0.6212 - val_loss: 2.2921 - val_mae: 1.3544\n",
      "Epoch 31/70\n",
      "4034/4034 [==============================] - 10s 3ms/step - loss: 0.6651 - mae: 0.6213 - val_loss: 1.9779 - val_mae: 1.2461\n",
      "Epoch 32/70\n",
      "4034/4034 [==============================] - 11s 3ms/step - loss: 0.6660 - mae: 0.6212 - val_loss: 1.8900 - val_mae: 1.2145\n",
      "Epoch 33/70\n",
      "4034/4034 [==============================] - 9s 2ms/step - loss: 0.6650 - mae: 0.6209 - val_loss: 1.9075 - val_mae: 1.2201\n",
      "Epoch 34/70\n",
      "4034/4034 [==============================] - 11s 3ms/step - loss: 0.6647 - mae: 0.6209 - val_loss: 1.7247 - val_mae: 1.1524\n",
      "Epoch 35/70\n",
      "4034/4034 [==============================] - 9s 2ms/step - loss: 0.6657 - mae: 0.6210 - val_loss: 1.8810 - val_mae: 1.2107\n",
      "Epoch 36/70\n",
      "4034/4034 [==============================] - 9s 2ms/step - loss: 0.6649 - mae: 0.6209 - val_loss: 1.9093 - val_mae: 1.2215\n",
      "Epoch 37/70\n",
      "4034/4034 [==============================] - 8s 2ms/step - loss: 0.6647 - mae: 0.6208 - val_loss: 1.6789 - val_mae: 1.1343\n",
      "Epoch 38/70\n",
      "4034/4034 [==============================] - 8s 2ms/step - loss: 0.6645 - mae: 0.6206 - val_loss: 1.6625 - val_mae: 1.1281\n",
      "Epoch 39/70\n",
      "4034/4034 [==============================] - 7s 2ms/step - loss: 0.6641 - mae: 0.6206 - val_loss: 2.0602 - val_mae: 1.2754\n",
      "Epoch 40/70\n",
      "4034/4034 [==============================] - 7s 2ms/step - loss: 0.6647 - mae: 0.6208 - val_loss: 2.0361 - val_mae: 1.2661\n",
      "Epoch 41/70\n",
      "4034/4034 [==============================] - 8s 2ms/step - loss: 0.6648 - mae: 0.6205 - val_loss: 1.9625 - val_mae: 1.2407\n",
      "Epoch 42/70\n",
      "4034/4034 [==============================] - 10s 2ms/step - loss: 0.6647 - mae: 0.6208 - val_loss: 2.1181 - val_mae: 1.2953\n",
      "Epoch 43/70\n",
      "4034/4034 [==============================] - 10s 2ms/step - loss: 0.6641 - mae: 0.6202 - val_loss: 1.8561 - val_mae: 1.2018\n",
      "Epoch 44/70\n",
      "4034/4034 [==============================] - 7s 2ms/step - loss: 0.6641 - mae: 0.6206 - val_loss: 2.2193 - val_mae: 1.3290\n",
      "Epoch 45/70\n",
      "4034/4034 [==============================] - 8s 2ms/step - loss: 0.6640 - mae: 0.6205 - val_loss: 2.0241 - val_mae: 1.2619\n",
      "Epoch 46/70\n",
      "4034/4034 [==============================] - 9s 2ms/step - loss: 0.6647 - mae: 0.6207 - val_loss: 1.7983 - val_mae: 1.1799\n",
      "Epoch 47/70\n",
      "4034/4034 [==============================] - 12s 3ms/step - loss: 0.6637 - mae: 0.6203 - val_loss: 1.9181 - val_mae: 1.2244\n",
      "Epoch 48/70\n",
      "4034/4034 [==============================] - 8s 2ms/step - loss: 0.6636 - mae: 0.6204 - val_loss: 2.0954 - val_mae: 1.2876\n",
      "Epoch 49/70\n",
      "4034/4034 [==============================] - 8s 2ms/step - loss: 0.6641 - mae: 0.6206 - val_loss: 1.9332 - val_mae: 1.2303\n",
      "Epoch 50/70\n",
      "4034/4034 [==============================] - 8s 2ms/step - loss: 0.6636 - mae: 0.6200 - val_loss: 1.7504 - val_mae: 1.1623\n",
      "Epoch 51/70\n",
      "4034/4034 [==============================] - 8s 2ms/step - loss: 0.6636 - mae: 0.6203 - val_loss: 1.7642 - val_mae: 1.1673\n",
      "Epoch 52/70\n",
      "4034/4034 [==============================] - 8s 2ms/step - loss: 0.6646 - mae: 0.6206 - val_loss: 1.7043 - val_mae: 1.1442\n",
      "Epoch 53/70\n",
      "4034/4034 [==============================] - 9s 2ms/step - loss: 0.6642 - mae: 0.6208 - val_loss: 1.7196 - val_mae: 1.1504\n",
      "Epoch 54/70\n",
      "4034/4034 [==============================] - 8s 2ms/step - loss: 0.6640 - mae: 0.6205 - val_loss: 1.8793 - val_mae: 1.2106\n",
      "Epoch 55/70\n",
      "4034/4034 [==============================] - 8s 2ms/step - loss: 0.6632 - mae: 0.6205 - val_loss: 2.0128 - val_mae: 1.2586\n",
      "Epoch 56/70\n",
      "4034/4034 [==============================] - 9s 2ms/step - loss: 0.6635 - mae: 0.6203 - val_loss: 1.5011 - val_mae: 1.0635\n",
      "Epoch 57/70\n",
      "4034/4034 [==============================] - 8s 2ms/step - loss: 0.6640 - mae: 0.6204 - val_loss: 2.1402 - val_mae: 1.3024\n",
      "Epoch 58/70\n",
      "4034/4034 [==============================] - 8s 2ms/step - loss: 0.6641 - mae: 0.6204 - val_loss: 1.6134 - val_mae: 1.1088\n",
      "Epoch 59/70\n",
      "4034/4034 [==============================] - 8s 2ms/step - loss: 0.6646 - mae: 0.6205 - val_loss: 2.0436 - val_mae: 1.2688\n",
      "Epoch 60/70\n",
      "4034/4034 [==============================] - 8s 2ms/step - loss: 0.6647 - mae: 0.6207 - val_loss: 1.9830 - val_mae: 1.2481\n",
      "Epoch 61/70\n"
     ]
    },
    {
     "name": "stdout",
     "output_type": "stream",
     "text": [
      "4034/4034 [==============================] - 8s 2ms/step - loss: 0.6638 - mae: 0.6202 - val_loss: 1.9967 - val_mae: 1.2523\n",
      "Epoch 62/70\n",
      "4034/4034 [==============================] - 10s 3ms/step - loss: 0.6652 - mae: 0.6211 - val_loss: 1.5837 - val_mae: 1.0969\n",
      "Epoch 63/70\n",
      "4034/4034 [==============================] - 14s 3ms/step - loss: 0.6642 - mae: 0.6206 - val_loss: 1.8801 - val_mae: 1.2109\n",
      "Epoch 64/70\n",
      "4034/4034 [==============================] - 15s 4ms/step - loss: 0.6655 - mae: 0.6212 - val_loss: 1.7919 - val_mae: 1.1781\n",
      "Epoch 65/70\n",
      "4034/4034 [==============================] - 16s 4ms/step - loss: 0.6649 - mae: 0.6204 - val_loss: 1.8126 - val_mae: 1.1857\n",
      "Epoch 66/70\n",
      "4034/4034 [==============================] - 11s 3ms/step - loss: 0.6649 - mae: 0.6210 - val_loss: 1.9305 - val_mae: 1.2292\n",
      "Epoch 67/70\n",
      "4034/4034 [==============================] - 12s 3ms/step - loss: 0.6648 - mae: 0.6210 - val_loss: 2.1120 - val_mae: 1.2935\n",
      "Epoch 68/70\n",
      "4034/4034 [==============================] - 15s 4ms/step - loss: 0.6649 - mae: 0.6210 - val_loss: 1.8596 - val_mae: 1.2021\n",
      "Epoch 69/70\n",
      "4034/4034 [==============================] - 15s 4ms/step - loss: 0.6652 - mae: 0.6209 - val_loss: 2.1556 - val_mae: 1.3078\n",
      "Epoch 70/70\n",
      "4034/4034 [==============================] - 8s 2ms/step - loss: 0.6642 - mae: 0.6209 - val_loss: 1.6065 - val_mae: 1.1061 1s - loss\n"
     ]
    }
   ],
   "source": [
    "# Define the model\n",
    "model = keras.Sequential([\n",
    "    layers.Dense(10, activation='relu', input_shape=[X_train.shape[1]]),\n",
    "    layers.Dropout(0.3, seed=2),\n",
    "    layers.Dense(10, activation='swish'),\n",
    "    layers.Dense(10, activation='relu'),\n",
    "    layers.Dense(10, activation='swish'),\n",
    "    layers.Dense(10, activation='relu'),\n",
    "    layers.Dense(10, activation='swish'),\n",
    "    layers.Dense(1)\n",
    "])\n",
    "\n",
    "# Compile the model\n",
    "optimizer = tf.keras.optimizers.RMSprop(learning_rate=0.001)\n",
    "\n",
    "model.compile(loss=tf.keras.losses.MeanSquaredError(),\n",
    "              optimizer=optimizer,\n",
    "              metrics=['mae'])\n",
    "\n",
    "# fit the keras model on the dataset\n",
    "history = model.fit(\n",
    "    x=X_train, y=y_train,\n",
    "    epochs=70, validation_split=0.2\n",
    ")"
   ]
  },
  {
   "cell_type": "code",
   "execution_count": 23,
   "metadata": {},
   "outputs": [
    {
     "name": "stdout",
     "output_type": "stream",
     "text": [
      "MAE = 1.11\n"
     ]
    }
   ],
   "source": [
    "loss, mae = model.evaluate(X_test, y_test, verbose=0)\n",
    "print('MAE = {:.2f}'.format(mae))"
   ]
  },
  {
   "cell_type": "markdown",
   "metadata": {},
   "source": [
    "    On average, the model predicts a rating of 1.11 either above or below the actual rating of a movie."
   ]
  },
  {
   "cell_type": "raw",
   "metadata": {},
   "source": []
  }
 ],
 "metadata": {
  "kernelspec": {
   "display_name": "Python 3",
   "language": "python",
   "name": "python3"
  },
  "language_info": {
   "codemirror_mode": {
    "name": "ipython",
    "version": 3
   },
   "file_extension": ".py",
   "mimetype": "text/x-python",
   "name": "python",
   "nbconvert_exporter": "python",
   "pygments_lexer": "ipython3",
   "version": "3.8.3"
  }
 },
 "nbformat": 4,
 "nbformat_minor": 4
}
